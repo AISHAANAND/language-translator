{
 "cells": [
  {
   "cell_type": "code",
   "execution_count": 1,
   "id": "50909305",
   "metadata": {},
   "outputs": [
    {
     "name": "stdout",
     "output_type": "stream",
     "text": [
      "Requirement already satisfied: googletrans==4.0.0-rc1 in c:\\users\\aisha\\anaconda3\\lib\\site-packages (4.0.0rc1)\n",
      "Requirement already satisfied: httpx==0.13.3 in c:\\users\\aisha\\anaconda3\\lib\\site-packages (from googletrans==4.0.0-rc1) (0.13.3)\n",
      "Requirement already satisfied: certifi in c:\\users\\aisha\\anaconda3\\lib\\site-packages (from httpx==0.13.3->googletrans==4.0.0-rc1) (2023.7.22)\n",
      "Requirement already satisfied: hstspreload in c:\\users\\aisha\\anaconda3\\lib\\site-packages (from httpx==0.13.3->googletrans==4.0.0-rc1) (2024.9.1)\n",
      "Requirement already satisfied: sniffio in c:\\users\\aisha\\anaconda3\\lib\\site-packages (from httpx==0.13.3->googletrans==4.0.0-rc1) (1.2.0)\n",
      "Requirement already satisfied: chardet==3.* in c:\\users\\aisha\\anaconda3\\lib\\site-packages (from httpx==0.13.3->googletrans==4.0.0-rc1) (3.0.4)\n",
      "Requirement already satisfied: idna==2.* in c:\\users\\aisha\\anaconda3\\lib\\site-packages (from httpx==0.13.3->googletrans==4.0.0-rc1) (2.10)\n",
      "Requirement already satisfied: rfc3986<2,>=1.3 in c:\\users\\aisha\\anaconda3\\lib\\site-packages (from httpx==0.13.3->googletrans==4.0.0-rc1) (1.5.0)\n",
      "Requirement already satisfied: httpcore==0.9.* in c:\\users\\aisha\\anaconda3\\lib\\site-packages (from httpx==0.13.3->googletrans==4.0.0-rc1) (0.9.1)\n",
      "Requirement already satisfied: h11<0.10,>=0.8 in c:\\users\\aisha\\anaconda3\\lib\\site-packages (from httpcore==0.9.*->httpx==0.13.3->googletrans==4.0.0-rc1) (0.9.0)\n",
      "Requirement already satisfied: h2==3.* in c:\\users\\aisha\\anaconda3\\lib\\site-packages (from httpcore==0.9.*->httpx==0.13.3->googletrans==4.0.0-rc1) (3.2.0)\n",
      "Requirement already satisfied: hyperframe<6,>=5.2.0 in c:\\users\\aisha\\anaconda3\\lib\\site-packages (from h2==3.*->httpcore==0.9.*->httpx==0.13.3->googletrans==4.0.0-rc1) (5.2.0)\n",
      "Requirement already satisfied: hpack<4,>=3.0 in c:\\users\\aisha\\anaconda3\\lib\\site-packages (from h2==3.*->httpcore==0.9.*->httpx==0.13.3->googletrans==4.0.0-rc1) (3.0.0)\n",
      "Note: you may need to restart the kernel to use updated packages.\n"
     ]
    }
   ],
   "source": [
    "pip install googletrans==4.0.0-rc1"
   ]
  },
  {
   "cell_type": "code",
   "execution_count": 2,
   "id": "adb100b5",
   "metadata": {},
   "outputs": [
    {
     "name": "stdout",
     "output_type": "stream",
     "text": [
      "Requirement already satisfied: googletrans==4.0.0-rc1 in c:\\users\\aisha\\anaconda3\\lib\\site-packages (4.0.0rc1)\n",
      "Requirement already satisfied: ttkthemes in c:\\users\\aisha\\anaconda3\\lib\\site-packages (3.2.2)\n",
      "Requirement already satisfied: httpx==0.13.3 in c:\\users\\aisha\\anaconda3\\lib\\site-packages (from googletrans==4.0.0-rc1) (0.13.3)\n",
      "Requirement already satisfied: certifi in c:\\users\\aisha\\anaconda3\\lib\\site-packages (from httpx==0.13.3->googletrans==4.0.0-rc1) (2023.7.22)\n",
      "Requirement already satisfied: hstspreload in c:\\users\\aisha\\anaconda3\\lib\\site-packages (from httpx==0.13.3->googletrans==4.0.0-rc1) (2024.9.1)\n",
      "Requirement already satisfied: sniffio in c:\\users\\aisha\\anaconda3\\lib\\site-packages (from httpx==0.13.3->googletrans==4.0.0-rc1) (1.2.0)\n",
      "Requirement already satisfied: chardet==3.* in c:\\users\\aisha\\anaconda3\\lib\\site-packages (from httpx==0.13.3->googletrans==4.0.0-rc1) (3.0.4)\n",
      "Requirement already satisfied: idna==2.* in c:\\users\\aisha\\anaconda3\\lib\\site-packages (from httpx==0.13.3->googletrans==4.0.0-rc1) (2.10)\n",
      "Requirement already satisfied: rfc3986<2,>=1.3 in c:\\users\\aisha\\anaconda3\\lib\\site-packages (from httpx==0.13.3->googletrans==4.0.0-rc1) (1.5.0)\n",
      "Requirement already satisfied: httpcore==0.9.* in c:\\users\\aisha\\anaconda3\\lib\\site-packages (from httpx==0.13.3->googletrans==4.0.0-rc1) (0.9.1)\n",
      "Requirement already satisfied: h11<0.10,>=0.8 in c:\\users\\aisha\\anaconda3\\lib\\site-packages (from httpcore==0.9.*->httpx==0.13.3->googletrans==4.0.0-rc1) (0.9.0)\n",
      "Requirement already satisfied: h2==3.* in c:\\users\\aisha\\anaconda3\\lib\\site-packages (from httpcore==0.9.*->httpx==0.13.3->googletrans==4.0.0-rc1) (3.2.0)\n",
      "Requirement already satisfied: hyperframe<6,>=5.2.0 in c:\\users\\aisha\\anaconda3\\lib\\site-packages (from h2==3.*->httpcore==0.9.*->httpx==0.13.3->googletrans==4.0.0-rc1) (5.2.0)\n",
      "Requirement already satisfied: hpack<4,>=3.0 in c:\\users\\aisha\\anaconda3\\lib\\site-packages (from h2==3.*->httpcore==0.9.*->httpx==0.13.3->googletrans==4.0.0-rc1) (3.0.0)\n",
      "Requirement already satisfied: pillow in c:\\users\\aisha\\anaconda3\\lib\\site-packages (from ttkthemes) (10.0.1)\n",
      "Note: you may need to restart the kernel to use updated packages.\n"
     ]
    }
   ],
   "source": [
    "pip install googletrans==4.0.0-rc1 ttkthemes"
   ]
  },
  {
   "cell_type": "code",
   "execution_count": 8,
   "id": "2ed7439a",
   "metadata": {},
   "outputs": [],
   "source": [
    "import tkinter as tk\n",
    "from tkinter import ttk\n",
    "from ttkthemes import ThemedTk\n",
    "from googletrans import Translator, LANGUAGES\n",
    "\n",
    "# Initialize the Translator\n",
    "translator = Translator()\n",
    "\n",
    "# Function to translate text\n",
    "def translate_text():\n",
    "    try:\n",
    "        text = text_input.get(\"1.0\", tk.END).strip()\n",
    "        src_lang = source_language_var.get()\n",
    "        dest_lang = destination_language_var.get()\n",
    "\n",
    "        # Translate text if input is not empty\n",
    "        if text:\n",
    "            translated = translator.translate(text, src=src_lang, dest=dest_lang)\n",
    "            text_output.delete(\"1.0\", tk.END)\n",
    "            text_output.insert(tk.END, translated.text)\n",
    "        else:\n",
    "            text_output.delete(\"1.0\", tk.END)\n",
    "            text_output.insert(tk.END, \"Please enter text to translate.\")\n",
    "    except Exception as e:\n",
    "        text_output.delete(\"1.0\", tk.END)\n",
    "        text_output.insert(tk.END, f\"Error: {e}\")\n",
    "\n",
    "# Update language options\n",
    "def update_language_options():\n",
    "    lang_list = list(LANGUAGES.values())\n",
    "    return lang_list\n",
    "\n",
    "# Create the main window with a theme\n",
    "root = ThemedTk(theme=\"breeze\")\n",
    "root.title(\"Language Translator\")\n",
    "root.geometry(\"500x400\")\n",
    "\n",
    "# Create a frame for the input section\n",
    "input_frame = ttk.Frame(root)\n",
    "input_frame.pack(pady=10)\n",
    "\n",
    "# Input label and text box\n",
    "ttk.Label(input_frame, text=\"Enter Text:\", font=(\"Helvetica\", 12)).pack(anchor=\"w\")\n",
    "text_input = tk.Text(input_frame, height=5, width=50, wrap=\"word\", font=(\"Helvetica\", 10))\n",
    "text_input.pack(pady=5)\n",
    "\n",
    "# Create a frame for language selection\n",
    "language_frame = ttk.Frame(root)\n",
    "language_frame.pack(pady=10)\n",
    "\n",
    "# Source language dropdown\n",
    "ttk.Label(language_frame, text=\"Source Language:\", font=(\"Helvetica\", 12)).grid(row=0, column=0, padx=5, pady=5)\n",
    "source_language_var = tk.StringVar(value=\"auto\")\n",
    "source_language = ttk.Combobox(language_frame, textvariable=source_language_var, values=update_language_options(), width=20)\n",
    "source_language.grid(row=0, column=1, padx=5, pady=5)\n",
    "\n",
    "# Destination language dropdown\n",
    "ttk.Label(language_frame, text=\"Destination Language:\", font=(\"Helvetica\", 12)).grid(row=1, column=0, padx=5, pady=5)\n",
    "destination_language_var = tk.StringVar(value=\"en\")\n",
    "destination_language = ttk.Combobox(language_frame, textvariable=destination_language_var, values=update_language_options(), width=20)\n",
    "destination_language.grid(row=1, column=1, padx=5, pady=5)\n",
    "\n",
    "# Translate button\n",
    "translate_button = ttk.Button(root, text=\"Translate\", command=translate_text)\n",
    "translate_button.pack(pady=10)\n",
    "\n",
    "# Create a frame for the output section\n",
    "output_frame = ttk.Frame(root)\n",
    "output_frame.pack(pady=10)\n",
    "\n",
    "# Output label and text box\n",
    "ttk.Label(output_frame, text=\"Translated Text:\", font=(\"Helvetica\", 12)).pack(anchor=\"w\")\n",
    "text_output = tk.Text(output_frame, height=5, width=50, wrap=\"word\", font=(\"Helvetica\", 10))\n",
    "text_output.pack(pady=5)\n",
    "\n",
    "# Start the GUI loop\n",
    "root.mainloop()\n"
   ]
  },
  {
   "cell_type": "code",
   "execution_count": null,
   "id": "5de60a3e",
   "metadata": {},
   "outputs": [],
   "source": []
  }
 ],
 "metadata": {
  "kernelspec": {
   "display_name": "Python 3 (ipykernel)",
   "language": "python",
   "name": "python3"
  },
  "language_info": {
   "codemirror_mode": {
    "name": "ipython",
    "version": 3
   },
   "file_extension": ".py",
   "mimetype": "text/x-python",
   "name": "python",
   "nbconvert_exporter": "python",
   "pygments_lexer": "ipython3",
   "version": "3.11.5"
  }
 },
 "nbformat": 4,
 "nbformat_minor": 5
}
